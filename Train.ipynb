{
 "cells": [
  {
   "cell_type": "code",
   "execution_count": 1,
   "metadata": {},
   "outputs": [],
   "source": [
    "import tensorflow as tf\n",
    "from tensorflow import keras\n",
    "from PIL import Image\n",
    "import matplotlib.pyplot as plt\n",
    "from image import draw_training_data, draw_bounding_boxes, generate_image, draw_bounding_boxes_from_tensor\n",
    "from data import get_generator"
   ]
  },
  {
   "cell_type": "code",
   "execution_count": 2,
   "metadata": {},
   "outputs": [],
   "source": [
    "generator = get_generator(image_size=(448, 448), batch_size=32)"
   ]
  },
  {
   "cell_type": "markdown",
   "metadata": {},
   "source": [
    "# Sample training image"
   ]
  },
  {
   "cell_type": "code",
   "execution_count": 3,
   "metadata": {},
   "outputs": [
    {
     "data": {
      "image/png": "[encoded data removed]",
      "text/plain": [
       "<PIL.Image.Image image mode=RGB size=448x448 at 0x26A678AF388>"
      ]
     },
     "execution_count": 3,
     "metadata": {},
     "output_type": "execute_result"
    }
   ],
   "source": [
    "image, data = generate_image(image_size=(448, 448))\n",
    "img = Image.fromarray(image)\n",
    "draw_training_data(img, data)"
   ]
  },
  {
   "cell_type": "markdown",
   "metadata": {},
   "source": [
    "# Draw generated images"
   ]
  },
  {
   "cell_type": "code",
   "execution_count": null,
   "metadata": {},
   "outputs": [],
   "source": [
    "fig, axes = plt.subplots(8, 4, figsize=(12, 16))\n",
    "\n",
    "batch = next(generator())\n",
    "\n",
    "for index in range(32):\n",
    "    axes[index//4, index%4].imshow(\n",
    "        draw_bounding_boxes_from_tensor(batch[0][index] * 255., batch[1][index], num_boxes_per_cell=1)\n",
    "    )\n",
    "    \n",
    "plt.show()"
   ]
  },
  {
   "cell_type": "markdown",
   "metadata": {},
   "source": [
    "# Tiny/Fast Yolo Model"
   ]
  },
  {
   "cell_type": "code",
   "execution_count": null,
   "metadata": {},
   "outputs": [],
   "source": [
    "NUM_CELLS = 7\n",
    "NUM_BOXES_PER_CELL = 2\n",
    "NUM_CLASSES = 3"
   ]
  },
  {
   "cell_type": "code",
   "execution_count": null,
   "metadata": {},
   "outputs": [],
   "source": [
    "def Conv2D(filters, kernel_size, strides=1):\n",
    "    return keras.layers.Conv2D(\n",
    "        filters=filters,\n",
    "        kernel_size=kernel_size,\n",
    "        strides=strides,\n",
    "        padding='same',\n",
    "        activation=keras.layers.LeakyReLU(.01)\n",
    "    )\n",
    "\n",
    "yolo_model = keras.Sequential()\n",
    "yolo_model.add(Conv2D(16, 3))\n",
    "yolo_model.add(keras.layers.BatchNormalization())\n",
    "yolo_model.add(keras.layers.MaxPool2D(pool_size=2, strides=2))\n",
    "yolo_model.add(Conv2D(32, 3))\n",
    "yolo_model.add(keras.layers.BatchNormalization())\n",
    "yolo_model.add(keras.layers.MaxPool2D(pool_size=2, strides=2))\n",
    "yolo_model.add(Conv2D(64, 3))\n",
    "yolo_model.add(keras.layers.BatchNormalization())\n",
    "yolo_model.add(keras.layers.MaxPool2D(pool_size=2, strides=2))\n",
    "yolo_model.add(Conv2D(128, 3))\n",
    "yolo_model.add(keras.layers.BatchNormalization())\n",
    "yolo_model.add(keras.layers.MaxPool2D(pool_size=2, strides=2))\n",
    "yolo_model.add(Conv2D(256, 3))\n",
    "yolo_model.add(keras.layers.BatchNormalization())\n",
    "yolo_model.add(keras.layers.MaxPool2D(pool_size=2, strides=2))\n",
    "yolo_model.add(Conv2D(512, 3))\n",
    "yolo_model.add(keras.layers.BatchNormalization())\n",
    "yolo_model.add(keras.layers.MaxPool2D(pool_size=2, strides=2))\n",
    "yolo_model.add(Conv2D(1024, 3))\n",
    "yolo_model.add(keras.layers.BatchNormalization())\n",
    "yolo_model.add(keras.layers.MaxPool2D(pool_size=2, strides=2))\n",
    "yolo_model.add(Conv2D(256, 3))\n",
    "yolo_model.add(keras.layers.BatchNormalization())\n",
    "yolo_model.add(keras.layers.MaxPool2D(pool_size=2, strides=2))\n",
    "yolo_model.add(Conv2D(256, 3))\n",
    "yolo_model.add(keras.layers.BatchNormalization())\n",
    "yolo_model.add(Conv2D(256, 3))\n",
    "yolo_model.add(keras.layers.BatchNormalization())\n",
    "yolo_model.add(keras.layers.Flatten())\n",
    "yolo_model.add(keras.layers.Dense(units=2048, activation=keras.layers.LeakyReLU(.01)))\n",
    "yolo_model.add(keras.layers.BatchNormalization())\n",
    "yolo_model.add(keras.layers.Dense(units=NUM_CELLS * NUM_CELLS * ((5 * NUM_BOXES_PER_CELL) + NUM_CLASSES), activation=\"sigmoid\"))\n",
    "\n",
    "# call once to check if everything works\n",
    "batch = next(generator())\n",
    "result = yolo_model(batch[0])"
   ]
  },
  {
   "cell_type": "markdown",
   "metadata": {},
   "source": [
    "# Loss function"
   ]
  },
  {
   "cell_type": "code",
   "execution_count": null,
   "metadata": {},
   "outputs": [],
   "source": [
    "class YoloLoss(tf.keras.losses.Loss):\n",
    "\n",
    "    def config(self, image_size=(448, 448), num_cells=7, num_classes=3, num_boxes_per_cell=2, lambda_coord=5, lambda_noobj=.5):\n",
    "        self.__image_size = image_size\n",
    "        self.__num_cells = num_cells\n",
    "        self.__num_grid_cells = num_cells * num_cells\n",
    "        self.__num_classes = num_classes\n",
    "        self.__num_boxes_per_cell = num_boxes_per_cell\n",
    "        self.__lambda_coord = lambda_coord\n",
    "        self.__lambda_noobj = lambda_noobj\n",
    " \n",
    "\n",
    "    @tf.autograph.experimental.do_not_convert\n",
    "    def call(self, y1, y2):                \n",
    "        y_true = tf.reshape(y1, (-1, self.__num_boxes_per_cell, 5 + self.__num_classes))        \n",
    "        y_pred = tf.reshape(y2, (-1, self.__num_boxes_per_cell, (self.__num_boxes_per_cell * 5) + self.__num_classes))\n",
    "        \n",
    "        y_true_cells = tf.reshape(y_true[..., :5], (-1, self.__num_grid_cells, 1, 5))\n",
    "        y_pred_cells = tf.reshape(y_pred[..., :(self.__num_boxes_per_cell * 5)], (-1, self.__num_grid_cells, self.__num_boxes_per_cell, 5))\n",
    "        \n",
    "        true_xy_1 = y_true_cells[..., 1:3] - (y_true_cells[..., 3:5] / 2.)\n",
    "        true_xy_2 = y_true_cells[..., 1:3] + (y_true_cells[..., 3:5] / 2.)\n",
    "        pred_xy_1 = y_pred_cells[..., 1:3] - (y_pred_cells[..., 3:5] / 2.)\n",
    "        pred_xy_2 = y_pred_cells[..., 1:3] + (y_pred_cells[..., 3:5] / 2.)\n",
    "\n",
    "        xy1 = tf.maximum(true_xy_1, pred_xy_1)\n",
    "        xy2 = tf.minimum(true_xy_2, pred_xy_2)\n",
    "        wh = tf.maximum(0., xy2 - xy1)\n",
    "\n",
    "        inter_area = wh[..., 0] * wh[..., 1]\n",
    "        true_area = y_true_cells[..., 3] * y_true_cells[..., 4]\n",
    "        pred_area = y_pred_cells[..., 3] * y_pred_cells[..., 4]\n",
    "\n",
    "        union_area = (true_area + pred_area) - inter_area\n",
    "        iou = tf.math.divide_no_nan(inter_area, union_area)\n",
    "        indices = tf.reshape(tf.argmax(iou, axis=-1), shape=(-1, self.__num_grid_cells, 1))\n",
    "        iou_mask = tf.reshape(tf.one_hot(indices, depth=self.__num_boxes_per_cell), shape=(-1, self.__num_grid_cells, self.__num_boxes_per_cell))\n",
    "        \n",
    "        confidence_mask = iou_mask * y_true_cells[..., 0]\n",
    "        no_confidence_mask = tf.abs(confidence_mask - 1.0)\n",
    "                        \n",
    "        loss_xy = tf.multiply(\n",
    "            self.__lambda_coord,\n",
    "            tf.reduce_sum(\n",
    "                tf.multiply(\n",
    "                    confidence_mask,\n",
    "                    tf.add(\n",
    "                        tf.square(y_true_cells[..., 1] - y_pred_cells[..., 1]),\n",
    "                        tf.square(y_true_cells[..., 2] - y_pred_cells[..., 2])\n",
    "                    )\n",
    "                )\n",
    "            )\n",
    "        )\n",
    "\n",
    "        loss_wh = tf.multiply(\n",
    "            self.__lambda_coord,\n",
    "            tf.reduce_sum(\n",
    "                tf.multiply(\n",
    "                    confidence_mask,\n",
    "                    tf.add(\n",
    "                        tf.square(tf.sqrt(y_true_cells[..., 3]) - tf.sqrt(y_pred_cells[..., 3])),\n",
    "                        tf.square(tf.sqrt(y_true_cells[..., 4]) - tf.sqrt(y_pred_cells[..., 4]))\n",
    "                    )\n",
    "                )\n",
    "            )\n",
    "        )\n",
    "        \n",
    "        loss_confidence1 = tf.reduce_sum(\n",
    "            confidence_mask * tf.square(y_true_cells[..., 0] - y_pred_cells[..., 0])\n",
    "        )\n",
    "        \n",
    "        loss_confidence2 = tf.reduce_sum(\n",
    "            self.__lambda_noobj * no_confidence_mask * tf.square(y_true_cells[..., 0] - y_pred_cells[..., 0])\n",
    "        )\n",
    "\n",
    "        loss_classes = tf.reduce_sum(\n",
    "            tf.multiply(\n",
    "                y_true[..., 0],\n",
    "                tf.reduce_sum(\n",
    "                    tf.square(\n",
    "                        y_true[..., 5:] - y_pred[..., (self.__num_boxes_per_cell * 5):]\n",
    "                    )\n",
    "                )\n",
    "            )\n",
    "        )\n",
    "              \n",
    "        return loss_xy + loss_wh + loss_confidence1 + loss_confidence2 + loss_classes"
   ]
  },
  {
   "cell_type": "markdown",
   "metadata": {},
   "source": [
    "# Model training"
   ]
  },
  {
   "cell_type": "code",
   "execution_count": null,
   "metadata": {},
   "outputs": [],
   "source": [
    "TRAIN = False\n",
    "LOAD_EXISTING = True"
   ]
  },
  {
   "cell_type": "markdown",
   "metadata": {},
   "source": [
    "# Load existing model"
   ]
  },
  {
   "cell_type": "code",
   "execution_count": null,
   "metadata": {},
   "outputs": [],
   "source": [
    "if LOAD_EXISTING:\n",
    "    yolo_model.load_weights(\"./results/tiny_yolo_model.h5\")"
   ]
  },
  {
   "cell_type": "markdown",
   "metadata": {},
   "source": [
    "# Train until loss < 1"
   ]
  },
  {
   "cell_type": "code",
   "execution_count": null,
   "metadata": {},
   "outputs": [],
   "source": [
    "loss_object = YoloLoss()\n",
    "loss_object.config(num_classes=3)\n",
    "optimizer = tf.keras.optimizers.Adam(learning_rate=0.00001)\n",
    "\n",
    "if TRAIN:   \n",
    "    epoch = 1\n",
    "\n",
    "    while True:\n",
    "        batch = next(generator())\n",
    "\n",
    "        with tf.GradientTape() as tape:\n",
    "            result = yolo_model(batch[0])\n",
    "            loss_value = loss_object(batch[1], result)\n",
    "            grads = tape.gradient(loss_value, yolo_model.trainable_variables)\n",
    "            optimizer.apply_gradients(zip(grads, yolo_model.trainable_variables))\n",
    "            print(\"Epoch {} loss {}\".format(epoch, loss_value.numpy().mean()))\n",
    "\n",
    "            if loss_value < 0.1:\n",
    "                break\n",
    "\n",
    "        if epoch % 100 == 0:\n",
    "            yolo_model.save_weights(\"./results/tiny_yolo_model.h5\")\n",
    "\n",
    "        epoch += 1"
   ]
  },
  {
   "cell_type": "markdown",
   "metadata": {},
   "source": [
    "# Evaluate"
   ]
  },
  {
   "cell_type": "code",
   "execution_count": null,
   "metadata": {},
   "outputs": [],
   "source": [
    "batch = next(generator())\n",
    "result = yolo_model(batch[0])\n",
    "# print(tf.reshape(result[0], shape=(49, -1)))\n",
    "\n",
    "\n",
    "fig, axes = plt.subplots(8, 4, figsize=(14, 18))\n",
    "\n",
    "for index in range(32):\n",
    "    axes[index//4, index%4].imshow(\n",
    "        \n",
    "        \n",
    "        draw_bounding_boxes_from_tensor(\n",
    "            batch[0][index] * 255.,\n",
    "            result[index],\n",
    "            num_boxes_per_cell=NUM_BOXES_PER_CELL,\n",
    "            min_confidence_treshold=0.8\n",
    "        )\n",
    "    )\n",
    "    \n",
    "plt.show()"
   ]
  },
  {
   "cell_type": "code",
   "execution_count": null,
   "metadata": {},
   "outputs": [],
   "source": []
  }
 ],
 "metadata": {
  "kernelspec": {
   "display_name": "Python 3",
   "language": "python",
   "name": "python3"
  },
  "language_info": {
   "codemirror_mode": {
    "name": "ipython",
    "version": 3
   },
   "file_extension": ".py",
   "mimetype": "text/x-python",
   "name": "python",
   "nbconvert_exporter": "python",
   "pygments_lexer": "ipython3",
   "version": "3.7.4"
  }
 },
 "nbformat": 4,
 "nbformat_minor": 4
}
